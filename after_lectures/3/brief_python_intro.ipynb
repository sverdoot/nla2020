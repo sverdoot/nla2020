{
 "cells": [
  {
   "cell_type": "markdown",
   "metadata": {
    "slideshow": {
     "slide_type": "slide"
    }
   },
   "source": [
    "# Python intro\n",
    "\n",
    "Topics for today\n",
    "\n",
    "- NumPy arrays and vectorization\n",
    "- Styleguides\n",
    "- Plots"
   ]
  },
  {
   "cell_type": "markdown",
   "metadata": {
    "slideshow": {
     "slide_type": "slide"
    }
   },
   "source": [
    "### Use numpy arrays, not lists!\n",
    "\n",
    "- Available all necessary math operations with vectors, matrices and tensors\n",
    "- Optimized implementation: more details in the next week lectures\n",
    "- Easy to use!"
   ]
  },
  {
   "cell_type": "code",
   "execution_count": 4,
   "metadata": {
    "slideshow": {
     "slide_type": "slide"
    }
   },
   "outputs": [
    {
     "name": "stdout",
     "output_type": "stream",
     "text": [
      "[[0.03996362 0.53578772 0.49584479]\n",
      " [0.53115827 0.83925501 0.60050346]\n",
      " [0.05986429 0.97262627 0.09736688]]\n",
      "[-0.97141524 -1.29002282 -0.32234162]\n",
      "[-0.97141524 -1.29002282 -0.32234162]\n",
      "[-0.97141524 -1.29002282 -0.32234162]\n",
      "[[-0.00718049 -0.0755073  -0.88872745]\n",
      " [-0.09543615 -0.11827423 -1.07631244]\n",
      " [-0.01075615 -0.13706993 -0.17451554]]\n"
     ]
    }
   ],
   "source": [
    "import numpy as np\n",
    "\n",
    "n = 3\n",
    "A = np.random.rand(n, n)\n",
    "x = np.random.randn(n)\n",
    "print(A)\n",
    "print(A @ x)\n",
    "print(A.dot(x))\n",
    "print(np.dot(A, x))\n",
    "print(A * x)"
   ]
  },
  {
   "cell_type": "code",
   "execution_count": 5,
   "metadata": {
    "slideshow": {
     "slide_type": "slide"
    }
   },
   "outputs": [
    {
     "name": "stdout",
     "output_type": "stream",
     "text": [
      "Trace of the matrix = 0.9765855145302441\n",
      "Diagonal of the matrix = [0.03996362 0.83925501 0.09736688]\n",
      "Different sums\n",
      "Sum all elements in the matrix 4.172370322265828\n",
      "Sum all evelements over rows \n",
      " [1.07159613 1.97091675 1.12985745] \n",
      " and columns \n",
      " [0.63098619 2.347669   1.19371513]\n",
      "Inverse matrix = [[-2.47796988  2.1215973  -0.46564168]\n",
      " [-0.07778224 -0.127227    1.18077282]\n",
      " [ 2.30052517 -0.03351864 -1.23836101]]\n"
     ]
    }
   ],
   "source": [
    "print(\"Trace of the matrix =\", np.trace(A))\n",
    "print(\"Diagonal of the matrix =\", np.diag(A))\n",
    "print(\"Different sums\")\n",
    "print(\"Sum all elements in the matrix\", np.sum(A))\n",
    "print(\"Sum all evelements over rows \\n {} \\n and columns \\n {}\".format(np.sum(A, 1), np.sum(A, 0)))\n",
    "print(\"Inverse matrix =\", np.linalg.inv(A))"
   ]
  },
  {
   "cell_type": "markdown",
   "metadata": {
    "slideshow": {
     "slide_type": "slide"
    }
   },
   "source": [
    "### Broadcasting\n",
    "\n",
    "-  Is it possible to compute $A + x$ for the matrix $A$ and vector $x$?"
   ]
  },
  {
   "cell_type": "code",
   "execution_count": 8,
   "metadata": {
    "slideshow": {
     "slide_type": "slide"
    }
   },
   "outputs": [
    {
     "name": "stdout",
     "output_type": "stream",
     "text": [
      "[[0.03996362 0.53578772 0.49584479]\n",
      " [0.53115827 0.83925501 0.60050346]\n",
      " [0.05986429 0.97262627 0.09736688]]\n",
      "[-0.17967555 -0.14092764 -1.7923501 ]\n",
      "[[-0.13971193  0.39486008 -1.29650531]\n",
      " [ 0.35148272  0.69832737 -1.19184663]\n",
      " [-0.11981126  0.83169863 -1.69498321]]\n",
      "[[-0.13971193  0.35611217  0.31616924]\n",
      " [ 0.39023063  0.69832737  0.45957582]\n",
      " [-1.7324858  -0.81972383 -1.69498321]]\n",
      "[[-0.00718049 -0.0755073  -0.88872745]\n",
      " [-0.09543615 -0.11827423 -1.07631244]\n",
      " [-0.01075615 -0.13706993 -0.17451554]]\n",
      "[[-0.22242102 -3.80186397 -0.27664505]\n",
      " [-2.95620786 -5.95521932 -0.33503692]\n",
      " [-0.33317997 -6.90160043 -0.05432359]]\n"
     ]
    }
   ],
   "source": [
    "print(A)\n",
    "print(x)\n",
    "print(A + x)\n",
    "print(A + x[:, None])\n",
    "print(A * x)\n",
    "print(A / x)"
   ]
  },
  {
   "cell_type": "markdown",
   "metadata": {
    "slideshow": {
     "slide_type": "slide"
    }
   },
   "source": [
    "### And what about columns?"
   ]
  },
  {
   "cell_type": "code",
   "execution_count": 9,
   "metadata": {
    "slideshow": {
     "slide_type": "slide"
    }
   },
   "outputs": [
    {
     "name": "stdout",
     "output_type": "stream",
     "text": [
      "[[0.03996362 0.53578772 0.49584479]\n",
      " [0.53115827 0.83925501 0.60050346]\n",
      " [0.05986429 0.97262627 0.09736688]]\n",
      "[-0.17967555 -0.14092764 -1.7923501 ]\n",
      "[[-0.13971193  0.35611217  0.31616924]\n",
      " [ 0.39023063  0.69832737  0.45957582]\n",
      " [-1.7324858  -0.81972383 -1.69498321]]\n"
     ]
    }
   ],
   "source": [
    "print(A)\n",
    "print(x)\n",
    "print(A + x[:, np.newaxis])"
   ]
  },
  {
   "cell_type": "markdown",
   "metadata": {
    "slideshow": {
     "slide_type": "slide"
    }
   },
   "source": [
    "### One more example"
   ]
  },
  {
   "cell_type": "code",
   "execution_count": 14,
   "metadata": {
    "slideshow": {
     "slide_type": "slide"
    }
   },
   "outputs": [
    {
     "name": "stdout",
     "output_type": "stream",
     "text": [
      "[[ 2.87119268  1.00660454  4.99540391  1.13794495 -1.6399003 ]\n",
      " [-3.78171345 -0.61834493 -4.07242142  1.37387972 -4.80561254]\n",
      " [-0.72752942 -2.22184308  5.25433511 -1.55149477 -2.04523844]\n",
      " [ 1.2780321  -0.34203354  0.22580307 -0.40015915  4.9352036 ]\n",
      " [ 3.15900128  2.01372584 -2.009067   -5.04810387  1.38600269]]\n",
      "[[0. 0. 0. 0. 0.]\n",
      " [0. 0. 0. 0. 0.]\n",
      " [0. 0. 0. 0. 0.]\n",
      " [0. 0. 0. 0. 0.]\n",
      " [0. 0. 0. 0. 0.]]\n"
     ]
    }
   ],
   "source": [
    "# i = np.arange(4)\n",
    "# j = np.arange(4)\n",
    "# print(i)\n",
    "# mat = i[:, None] - j[None, :]\n",
    "# print(mat)\n",
    "# print(i.shape)\n",
    "# print(i[:, None].shape)\n",
    "n = 10\n",
    "m = 5\n",
    "A = np.random.randn(m, n)\n",
    "B = np.random.randn(n, m)\n",
    "print(A @ B)\n",
    "print((A @ B).T - (B.T @ A.T))"
   ]
  },
  {
   "cell_type": "markdown",
   "metadata": {
    "slideshow": {
     "slide_type": "slide"
    }
   },
   "source": [
    "### No loops!\n",
    "\n",
    "- Avoid loops wherever its possible!\n",
    "- Loops in Python are very slow\n",
    "- Use initializers from NumPy"
   ]
  },
  {
   "cell_type": "code",
   "execution_count": 15,
   "metadata": {
    "slideshow": {
     "slide_type": "slide"
    }
   },
   "outputs": [
    {
     "name": "stdout",
     "output_type": "stream",
     "text": [
      "7.78 ms ± 85.9 µs per loop (mean ± std. dev. of 7 runs, 100 loops each)\n"
     ]
    }
   ],
   "source": [
    "%%timeit\n",
    "a = []\n",
    "n = 100000\n",
    "for i in range(n):\n",
    "    a.append(1)"
   ]
  },
  {
   "cell_type": "code",
   "execution_count": 21,
   "metadata": {
    "slideshow": {
     "slide_type": "slide"
    }
   },
   "outputs": [
    {
     "name": "stdout",
     "output_type": "stream",
     "text": [
      "1.96 µs ± 20.9 ns per loop (mean ± std. dev. of 7 runs, 100000 loops each)\n"
     ]
    }
   ],
   "source": [
    "%%timeit \n",
    "a = np.ones(n)"
   ]
  },
  {
   "cell_type": "code",
   "execution_count": 28,
   "metadata": {
    "slideshow": {
     "slide_type": "slide"
    }
   },
   "outputs": [
    {
     "name": "stdout",
     "output_type": "stream",
     "text": [
      "633 ns ± 4.18 ns per loop (mean ± std. dev. of 7 runs, 1000000 loops each)\n"
     ]
    }
   ],
   "source": [
    "%%timeit \n",
    "a = [1 for i in range(n)]"
   ]
  },
  {
   "cell_type": "code",
   "execution_count": 29,
   "metadata": {},
   "outputs": [
    {
     "name": "stdout",
     "output_type": "stream",
     "text": [
      "122 ns ± 0.578 ns per loop (mean ± std. dev. of 7 runs, 10000000 loops each)\n"
     ]
    }
   ],
   "source": [
    "%%timeit \n",
    "a = [1] * n"
   ]
  },
  {
   "cell_type": "code",
   "execution_count": 26,
   "metadata": {
    "slideshow": {
     "slide_type": "slide"
    }
   },
   "outputs": [
    {
     "name": "stdout",
     "output_type": "stream",
     "text": [
      "[0. 0. 0.]\n",
      "[[1. 1. 1.]\n",
      " [1. 1. 1.]\n",
      " [1. 1. 1.]]\n",
      "[[1. 0. 0.]\n",
      " [0. 1. 0.]\n",
      " [0. 0. 1.]]\n",
      "[0 1 2]\n"
     ]
    }
   ],
   "source": [
    "print(np.zeros(3))\n",
    "print(np.ones((3, 3)))\n",
    "print(np.eye(3))\n",
    "print(np.arange(3))"
   ]
  },
  {
   "cell_type": "markdown",
   "metadata": {
    "slideshow": {
     "slide_type": "slide"
    }
   },
   "source": [
    "## Other useful info\n",
    "\n",
    "- All basic matrix decompositions can be found in NumPy\n",
    "- Matrix functions\n",
    "- Methods for large scale problem can be found in SciPy and we will introduce them in the second part of the course"
   ]
  },
  {
   "cell_type": "markdown",
   "metadata": {
    "slideshow": {
     "slide_type": "slide"
    }
   },
   "source": [
    "### Styleguides\n",
    "\n",
    "- You write code not for you, but for people who will read it!\n",
    "- Remember about proper naming\n",
    "- Spaces between math operators and arguments\n",
    "- PEP8 (PEP = Python Enhancement Proposal) http://legacy.python.org/dev/peps/pep-0008/\n",
    "- Google Python Styleguide: http://google.github.io/styleguide/pyguide.html "
   ]
  },
  {
   "cell_type": "markdown",
   "metadata": {
    "slideshow": {
     "slide_type": "slide"
    }
   },
   "source": [
    "## Plotting\n",
    "\n",
    "- Use matplotlib library\n",
    "- Check the following parts of plots\n",
    "    - Scale (log vs. linear)\n",
    "    - Fontsize in axis labels\n",
    "    - Fontsize in ticks\n",
    "    - Fontsize in legend\n",
    "    - Clear difference between lines colours and/or markers\n",
    "    - Grid if necessary"
   ]
  },
  {
   "cell_type": "code",
   "execution_count": 30,
   "metadata": {
    "slideshow": {
     "slide_type": "slide"
    }
   },
   "outputs": [],
   "source": [
    "import matplotlib.pyplot as plt\n",
    "%matplotlib inline"
   ]
  },
  {
   "cell_type": "code",
   "execution_count": 31,
   "metadata": {
    "slideshow": {
     "slide_type": "slide"
    }
   },
   "outputs": [],
   "source": [
    "c = 1.\n",
    "num_points = 100\n",
    "method_1 = [c / k**5 for k in range(1, num_points)]\n",
    "method_2 = [c * 0.5**k for k in range(1, num_points)]"
   ]
  },
  {
   "cell_type": "code",
   "execution_count": 32,
   "metadata": {
    "slideshow": {
     "slide_type": "slide"
    }
   },
   "outputs": [
    {
     "data": {
      "text/plain": [
       "Text(0.5, 0, 'Number of iterations')"
      ]
     },
     "execution_count": 32,
     "metadata": {},
     "output_type": "execute_result"
    },
    {
     "data": {
      "image/png": "[encoded data removed]",
      "text/plain": [
       "<Figure size 432x288 with 1 Axes>"
      ]
     },
     "metadata": {
      "needs_background": "light"
     },
     "output_type": "display_data"
    }
   ],
   "source": [
    "plt.plot(method_1, label=\"Method A\")\n",
    "plt.plot(method_2, label=\"Method B\")\n",
    "plt.legend()\n",
    "plt.ylabel(\"Convergence\")\n",
    "plt.xlabel(\"Number of iterations\")"
   ]
  },
  {
   "cell_type": "markdown",
   "metadata": {
    "slideshow": {
     "slide_type": "slide"
    }
   },
   "source": [
    "### If you leave this plot as it is, you will get penalty!"
   ]
  },
  {
   "cell_type": "code",
   "execution_count": 34,
   "metadata": {
    "slideshow": {
     "slide_type": "slide"
    }
   },
   "outputs": [
    {
     "data": {
      "image/png": "[encoded data removed]",
      "text/plain": [
       "<Figure size 432x288 with 1 Axes>"
      ]
     },
     "metadata": {
      "needs_background": "light"
     },
     "output_type": "display_data"
    }
   ],
   "source": [
    "plt.plot(method_1, label=\"Method A\", linewidth=4)\n",
    "plt.plot(method_2, label=\"Method B\", linewidth=4)\n",
    "plt.legend(fontsize=18)\n",
    "plt.ylabel(\"Convergence\", fontsize=18)\n",
    "plt.xlabel(\"Number of iterations\", fontsize=18)\n",
    "plt.yscale(\"log\")\n",
    "plt.grid(True)\n",
    "plt.xticks(fontsize=18)\n",
    "_ = plt.yticks(fontsize=18)"
   ]
  },
  {
   "cell_type": "code",
   "execution_count": 36,
   "metadata": {
    "slideshow": {
     "slide_type": "slide"
    }
   },
   "outputs": [
    {
     "data": {
      "image/png": "[encoded data removed]",
      "text/plain": [
       "<Figure size 432x288 with 1 Axes>"
      ]
     },
     "metadata": {
      "needs_background": "light"
     },
     "output_type": "display_data"
    }
   ],
   "source": [
    "plt.rc(\"text\", usetex=True)\n",
    "plt.plot(method_1, label=\"Method A\", linewidth=4)\n",
    "plt.plot(method_2, label=\"Method B\", linewidth=4)\n",
    "plt.legend(fontsize=18)\n",
    "plt.ylabel(\"Convergence\", fontsize=18)\n",
    "plt.xlabel(\"Number of iterations\", fontsize=18)\n",
    "plt.yscale(\"log\")\n",
    "plt.grid(True)\n",
    "plt.xticks(fontsize=18)\n",
    "_ = plt.yticks(fontsize=18)"
   ]
  },
  {
   "cell_type": "code",
   "execution_count": 50,
   "metadata": {
    "slideshow": {
     "slide_type": "slide"
    }
   },
   "outputs": [
    {
     "data": {
      "text/plain": [
       "Text(0.5, 1.0, 'Demo title  $x^4$')"
      ]
     },
     "execution_count": 50,
     "metadata": {},
     "output_type": "execute_result"
    },
    {
     "data": {
      "image/png": "[encoded data removed]",
      "text/plain": [
       "<Figure size 720x432 with 1 Axes>"
      ]
     },
     "metadata": {
      "needs_background": "light"
     },
     "output_type": "display_data"
    }
   ],
   "source": [
    "plt.figure(figsize=(10, 6))\n",
    "plt.plot(method_1, label=\"Method A\", linewidth=4)\n",
    "plt.plot(method_2, label=\"Method B\", linewidth=4)\n",
    "plt.legend(fontsize=18)\n",
    "plt.ylabel(\"Convergence\", fontsize=18)\n",
    "plt.xlabel(\"Number of iterations\", fontsize=18)\n",
    "plt.yscale(\"log\")\n",
    "plt.grid(True)\n",
    "plt.xticks(fontsize=18)\n",
    "_ = plt.yticks(fontsize=18)\n",
    "plt.title(r\"Demo title  $x^4$\", fontsize=24)"
   ]
  },
  {
   "cell_type": "markdown",
   "metadata": {
    "slideshow": {
     "slide_type": "slide"
    }
   },
   "source": [
    "## Summary\n",
    "\n",
    "- Use NumPy objects\n",
    "- Check styleguides to write readable code!\n",
    "- Make nice plots with clear desciptions and conclusions"
   ]
  }
 ],
 "metadata": {
  "celltoolbar": "Slideshow",
  "kernelspec": {
   "display_name": "Python 3",
   "language": "python",
   "name": "python3"
  },
  "language_info": {
   "codemirror_mode": {
    "name": "ipython",
    "version": 3
   },
   "file_extension": ".py",
   "mimetype": "text/x-python",
   "name": "python",
   "nbconvert_exporter": "python",
   "pygments_lexer": "ipython3",
   "version": "3.7.7"
  }
 },
 "nbformat": 4,
 "nbformat_minor": 2
}
