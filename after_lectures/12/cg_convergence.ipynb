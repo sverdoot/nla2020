{
 "cells": [
  {
   "cell_type": "code",
   "execution_count": 1,
   "metadata": {},
   "outputs": [],
   "source": [
    "import scipy.sparse.linalg as spsplin\n",
    "import numpy as np\n",
    "import matplotlib.pyplot as plt"
   ]
  },
  {
   "cell_type": "code",
   "execution_count": 30,
   "metadata": {},
   "outputs": [],
   "source": [
    "# Convergence of CG for different spectrum\n",
    "n = 1000\n",
    "A = np.random.randn(n, n)\n",
    "# A = A.T @ A\n",
    "Q, _ = np.linalg.qr(A)\n",
    "A = Q @ np.diag([1, 10] + [100 + i for i in range(n-2)]) @ Q.T\n",
    "eigvals = np.linalg.eigvalsh(A)"
   ]
  },
  {
   "cell_type": "code",
   "execution_count": 31,
   "metadata": {},
   "outputs": [
    {
     "name": "stdout",
     "output_type": "stream",
     "text": [
      "1.000000000000953 1097.0000000000016\n"
     ]
    }
   ],
   "source": [
    "print(min(eigvals), max(eigvals))"
   ]
  },
  {
   "cell_type": "code",
   "execution_count": 32,
   "metadata": {},
   "outputs": [
    {
     "data": {
      "text/plain": [
       "<matplotlib.collections.PathCollection at 0x7fc4f94b6190>"
      ]
     },
     "execution_count": 32,
     "metadata": {},
     "output_type": "execute_result"
    },
    {
     "data": {
      "image/png": "[encoded data removed]",
      "text/plain": [
       "<Figure size 432x288 with 1 Axes>"
      ]
     },
     "metadata": {
      "needs_background": "light"
     },
     "output_type": "display_data"
    }
   ],
   "source": [
    "plt.scatter(eigvals, np.ones(n))"
   ]
  },
  {
   "cell_type": "code",
   "execution_count": 33,
   "metadata": {},
   "outputs": [
    {
     "name": "stdout",
     "output_type": "stream",
     "text": [
      "1097.0000000000516\n",
      "0.9981785063752278\n",
      "0.9413850541544568\n"
     ]
    }
   ],
   "source": [
    "q = np.linalg.cond(A)\n",
    "print(q)\n",
    "print((q - 1) / (q + 1))\n",
    "print((np.sqrt(q) - 1) / (np.sqrt(q) + 1))"
   ]
  },
  {
   "cell_type": "markdown",
   "metadata": {},
   "source": [
    "- Richardson iteration convergence \n",
    "\n",
    "$$ \\|x_{k+1} - x^* \\|_2 \\leq C \\left(\\frac{\\kappa - 1}{\\kappa+1}\\right)^k $$\n",
    "\n",
    "- Chebyshev iteration convergence\n",
    "\n",
    "$$ \\|x_{k+1} - x^* \\|_2 \\leq C \\left(\\frac{\\sqrt{\\kappa} - 1}{\\sqrt{\\kappa}+1}\\right)^k $$"
   ]
  },
  {
   "cell_type": "code",
   "execution_count": 44,
   "metadata": {},
   "outputs": [],
   "source": [
    "rhs = np.random.randn(n)\n",
    "x0 = np.random.randn(n)"
   ]
  },
  {
   "cell_type": "code",
   "execution_count": 76,
   "metadata": {},
   "outputs": [],
   "source": [
    "conv_cg = []\n",
    "\n",
    "def cl_cg(x):\n",
    "    conv_cg.append(x.copy())\n",
    "    \n",
    "x_cg, info = spsplin.cg(A, rhs, callback=cl_cg, x0=x0, tol=1e-6)"
   ]
  },
  {
   "cell_type": "code",
   "execution_count": 77,
   "metadata": {},
   "outputs": [
    {
     "data": {
      "text/plain": [
       "2.504019900942985e-05"
      ]
     },
     "execution_count": 77,
     "metadata": {},
     "output_type": "execute_result"
    }
   ],
   "source": [
    "np.linalg.norm(A @ x_cg - rhs)"
   ]
  },
  {
   "cell_type": "code",
   "execution_count": 78,
   "metadata": {},
   "outputs": [],
   "source": [
    "def richardson(A, b, tau, x0, tol, max_iter):\n",
    "    x = x0.copy()\n",
    "    conv = []\n",
    "    for i in range(max_iter):\n",
    "        x = x - tau * (A @ x - b)\n",
    "        conv.append(x)\n",
    "        if np.linalg.norm(A @ x - b) < tol:\n",
    "            break\n",
    "    return x, conv"
   ]
  },
  {
   "cell_type": "code",
   "execution_count": 79,
   "metadata": {},
   "outputs": [
    {
     "name": "stdout",
     "output_type": "stream",
     "text": [
      "35.52946857894798\n"
     ]
    }
   ],
   "source": [
    "x_rich, conv_rich = richardson(A, rhs, 2 / (min(eigvals) + max(eigvals)), x0,\n",
    "                               1e-6, 1000)\n",
    "print(np.linalg.norm(A @ x_rich - rhs))"
   ]
  },
  {
   "cell_type": "code",
   "execution_count": 80,
   "metadata": {},
   "outputs": [
    {
     "data": {
      "text/plain": [
       "Text(0, 0.5, '$||Ax_k - b||_2$')"
      ]
     },
     "execution_count": 80,
     "metadata": {},
     "output_type": "execute_result"
    },
    {
     "data": {
      "image/png": "[encoded data removed]",
      "text/plain": [
       "<Figure size 432x288 with 1 Axes>"
      ]
     },
     "metadata": {
      "needs_background": "light"
     },
     "output_type": "display_data"
    }
   ],
   "source": [
    "plt.semilogy([np.linalg.norm(A @ x - rhs) for x in conv_cg], label=\"CG\")\n",
    "plt.semilogy([np.linalg.norm(A @ x - rhs) for x in conv_rich], label=\"Richardson\")\n",
    "plt.legend(fontsize=20)\n",
    "plt.grid(True)\n",
    "plt.xlabel(\"Number of iterations\", fontsize=24)\n",
    "plt.ylabel(\"$||Ax_k - b||_2$\", fontsize=24)"
   ]
  },
  {
   "cell_type": "code",
   "execution_count": 81,
   "metadata": {},
   "outputs": [],
   "source": [
    "niters = 256\n",
    "roots = [np.cos((np.pi * (2 * i + 1)) / (2 * niters)) for i in range(niters)]\n",
    "lam_max = max(eigvals)\n",
    "lam_min = min(eigvals)\n",
    "taus = [(lam_max + lam_min - (lam_min - lam_max) * r) / 2 for r in roots]\n",
    "x = np.zeros(n)\n",
    "r = A.dot(x) - rhs\n",
    "res_cheb = [np.linalg.norm(r)]\n",
    "\n",
    "# Implementation may be non-optimal if number of iterations is not power of two\n",
    "def good_shuffle(idx):\n",
    "    if len(idx) == 1:\n",
    "        return idx\n",
    "    else:\n",
    "        new_len = int(np.ceil((len(idx) / 2)))\n",
    "        new_idx = good_shuffle(idx[:new_len])\n",
    "        res_perm = []\n",
    "        perm_count = 0\n",
    "        for i in new_idx:\n",
    "            res_perm.append(i)\n",
    "            perm_count += 1\n",
    "            if perm_count == len(idx):\n",
    "                break\n",
    "            res_perm.append(len(idx) + 1 - i)\n",
    "            perm_count += 1\n",
    "            if perm_count == len(idx):\n",
    "                break\n",
    "        return res_perm\n",
    "\n",
    "good_perm = good_shuffle([i for i in range(1, niters+1)])\n",
    "# good_perm = [i for i in range(niters, 0, -1)]\n",
    "# good_perm = [i for i in range(niters)]\n",
    "# good_perm = np.random.permutation([i for i in range(1, niters+1)])\n",
    "\n",
    "for i in range(niters):\n",
    "    x = x - 1.0/taus[good_perm[i] - 1] * r\n",
    "    r = A.dot(x) - rhs\n",
    "    res_cheb.append(np.linalg.norm(r))"
   ]
  },
  {
   "cell_type": "code",
   "execution_count": 82,
   "metadata": {},
   "outputs": [
    {
     "data": {
      "text/plain": [
       "Text(0, 0.5, '$||Ax_k - b||_2$')"
      ]
     },
     "execution_count": 82,
     "metadata": {},
     "output_type": "execute_result"
    },
    {
     "data": {
      "image/png": "[encoded data removed]",
      "text/plain": [
       "<Figure size 432x288 with 1 Axes>"
      ]
     },
     "metadata": {
      "needs_background": "light"
     },
     "output_type": "display_data"
    }
   ],
   "source": [
    "plt.semilogy([np.linalg.norm(A @ x - rhs) for x in conv_cg], label=\"CG\")\n",
    "plt.semilogy([np.linalg.norm(A @ x - rhs) for x in conv_rich], label=\"Richardson\")\n",
    "plt.semilogy(res_cheb, label=\"Chebyshev\")\n",
    "plt.legend(fontsize=20)\n",
    "plt.grid(True)\n",
    "plt.xlabel(\"Number of iterations\", fontsize=24)\n",
    "plt.ylabel(\"$||Ax_k - b||_2$\", fontsize=24)"
   ]
  },
  {
   "cell_type": "code",
   "execution_count": 83,
   "metadata": {},
   "outputs": [
    {
     "name": "stdout",
     "output_type": "stream",
     "text": [
      "8.59 ms ± 402 µs per loop (mean ± std. dev. of 7 runs, 100 loops each)\n",
      "10.6 ms ± 110 µs per loop (mean ± std. dev. of 7 runs, 100 loops each)\n"
     ]
    }
   ],
   "source": [
    "%timeit np.linalg.solve(A, rhs)\n",
    "%timeit spsplin.cg(A, rhs)"
   ]
  }
 ],
 "metadata": {
  "kernelspec": {
   "display_name": "Python 3",
   "language": "python",
   "name": "python3"
  },
  "language_info": {
   "codemirror_mode": {
    "name": "ipython",
    "version": 3
   },
   "file_extension": ".py",
   "mimetype": "text/x-python",
   "name": "python",
   "nbconvert_exporter": "python",
   "pygments_lexer": "ipython3",
   "version": "3.7.7"
  }
 },
 "nbformat": 4,
 "nbformat_minor": 4
}
