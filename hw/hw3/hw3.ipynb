{
 "cells": [
  {
   "cell_type": "markdown",
   "metadata": {},
   "source": [
    "# Problem set 3 (90 pts)\n",
    "\n",
    "## Important note: the template for your solution filename is Name_Surname_PS3.ipynb"
   ]
  },
  {
   "cell_type": "markdown",
   "metadata": {},
   "source": [
    "## Problem 1 (25 pts)\n",
    "\n",
    "- (5 pts) Prove that $\\mathrm{vec}(AXB) = (B^\\top \\otimes A)\\, \\mathrm{vec}(X)$ if $\\mathrm{vec}(X)$ is a columnwise reshape of a matrix into a long vector. What does it change if the reshape is rowwise? \n",
    "\n",
    "**Note:** To make a columnwise reshape in Python one should use ```np.reshape(X, order='f')```, where the string ```'f'``` stands for the Fortran ordering. \n",
    "\n",
    "- (2 pts) What is the complexity of a naive computation of $(A \\otimes B) x$? Show how it can be reduced.\n",
    "\n",
    "- (3 pts) Let matrices $A$ and $B$ have eigendecompositions $A = S_A\\Lambda_A S_A^{-1}$ and $B = S_B\\Lambda_B S^{-1}_B$. Find eigenvectors and eigenvalues of the matrix $A\\otimes I + I \\otimes B$, where dimension of $I$ coincides with the dimension of $A$ and $B$.\n",
    "\n",
    "\n",
    "- (10 pts) Let $A = \\mathrm{diag}\\left(\\frac{1}{1000},\\frac{2}{1000},\\dots \\frac{999}{1000}, 1, 1000 \\right)$. Estimate analytically the number of iterations required  to solve linear system with $A$ with the relative accuracy $10^{-4}$ using\n",
    "    - Richardson iteration with the optimal choice of parameter (use $2$-norm)\n",
    "    - Chebyshev iteration (use $2$-norm)\n",
    "    - Conjugate gradient method (use $A$-norm).\n",
    "    \n",
    "- (5 pts) Provide numerical confirmation of your estimate from theoretical point of view"
   ]
  },
  {
   "cell_type": "code",
   "execution_count": 1,
   "metadata": {},
   "outputs": [],
   "source": [
    "# Your solution is here"
   ]
  },
  {
   "cell_type": "markdown",
   "metadata": {},
   "source": [
    "## Problem 2 (40 pts)\n",
    "\n",
    "### Spectral graph partitioning and inverse iteration\n",
    "\n",
    "\n",
    "Given connected graph $G$ and its corresponding graph Laplacian matrix $L = D - A$ with eigenvalues $0=\\lambda_1, \\lambda_2, ..., \\lambda_n$, where $D$ is its degree matrix and $A$ is its adjacency matrix, *Fiedler vector* is an eignevector correspondng to the second smallest eigenvalue $\\lambda_2$ of $L$. Fiedler vector can be used for graph partitioning: positive values correspond to the one part of a graph and negative values to another."
   ]
  },
  {
   "cell_type": "markdown",
   "metadata": {},
   "source": [
    "### Inverse power method (15 pts)\n",
    "\n",
    "To find the Fiedler vector we will use the inverse iteration with adaptive shifts (Rayleigh quotient iteration). \n",
    "\n",
    "* (5 pts) Write down the orthoprojection matrix on the space orthogonal to the eigenvector of $L$, corresponding to the eigenvalue $0$ and prove (analytically) that it is indeed an orthoprojection.\n",
    " \n",
    "* (5 pts) Implement the spectral partitioning as the function ```partition```:"
   ]
  },
  {
   "cell_type": "code",
   "execution_count": 3,
   "metadata": {},
   "outputs": [],
   "source": [
    "# INPUT:\n",
    "# A - adjacency matrix (scipy.sparse.csr_matrix)\n",
    "# num_iter_fix - number of iterations with fixed shift (int)\n",
    "# shift - (float number)\n",
    "# num_iter_adapt - number of iterations with adaptive shift (int) -- Rayleigh quotient iteration steps\n",
    "# x0 - initial guess (1D numpy.ndarray)\n",
    "# OUTPUT:\n",
    "# x - normalized Fiedler vector (1D numpy.ndarray)\n",
    "# eigs - eigenvalue estimations at each step (1D numpy.ndarray)\n",
    "# eps - relative tolerance (float)\n",
    "def partition(A, shift, num_iter_fix, num_iter_adapt, x0, eps):\n",
    "    x = x0\n",
    "    eigs = np.array([0])\n",
    "    return x, eigs"
   ]
  },
  {
   "cell_type": "markdown",
   "metadata": {},
   "source": [
    "Algorithm must halt before `num_iter_fix + num_iter_adapt` iterations if the following condition is satisfied $$ \\boxed{\\|\\lambda_k - \\lambda_{k-1}\\|_2 / \\|\\lambda_k\\|_2 \\leq \\varepsilon} \\text{ at some step } k.$$\n",
    "\n",
    "Do not forget to use the orthogonal projection from above in the iterative process to get the correct eigenvector.\n",
    "It is also a good idea to use ```shift=0``` before the adaptive stragy is used. This, however, is not possible since the matrix $L$ is singular, and sparse decompositions in ```scipy``` does not work in this case. Therefore, we first use a very small shift instead.\n",
    "\n",
    "* (3 pts) Generate a random `lollipop_graph` using `networkx` library and find its partition. [Draw](https://networkx.github.io/documentation/networkx-1.9/examples/drawing/labels_and_colors.html) this graph with vertices colored according to the partition.\n",
    "\n",
    "* (2 pts) Start the method with a random initial guess ```x0```, set ```num_iter_fix=0``` and comment why the method can converge to a wrong eigenvalue."
   ]
  },
  {
   "cell_type": "markdown",
   "metadata": {},
   "source": [
    "### Spectral graph properties (15 pts)\n",
    "\n",
    "* (5 pts) Prove that multiplicity of the eigenvalue $0$ in the spectrum of the graphs Laplacian is the number of its connected components.\n",
    "* (10 pts) The second-smallest eigenvalue of $L(G)$, $\\lambda_2(L(G))$, is often called the algebraic connectivity of the\n",
    "graph $G$. A basic intuition behind the use of this term is that a graph with a higher algebraic\n",
    "connectivity typically has more edges, and can therefore be thought of as being “more connected”.  \n",
    "To check this statement, create few graphs with equal number of vertices using `networkx`, one of them should be $C_{30}$ - simple cyclic graph, and one of them should be $K_{30}$ - complete graph. (You also can change the number of vertices if it makes sense for your experiments, but do not make it trivially small).\n",
    "    * Find the algebraic connectivity for the each graph using inverse iteration.\n",
    "    * Plot the dependency $\\lambda_2(G_i)$ on $|E_i|$.\n",
    "    * Draw a partition for a chosen graph from the generated set.\n",
    "    * Comment on the results."
   ]
  },
  {
   "cell_type": "markdown",
   "metadata": {},
   "source": [
    "### Image bipartition (10 pts)\n",
    "\n",
    "Let us deal here with a graph constructed from a binarized image.\n",
    "Consider the rule, that graph vertices are only pixels with $1$, and each vertex can have no more than $8$ connected vertices (pixel neighbours), $\\textit{i.e}$ graph degree is limited by 8.\n",
    "* (3 pts) Find an image with minimal size equal to $(256, 256)$ and binarize it such that graph built on black pixels has exactly $1$ connected component.\n",
    "* (5 pts) Write a function that constructs sparse adjacency matrix from the binarized image, taking into account the rule from above.\n",
    "* (2 pts) Find the partition of the resulting graph and draw the image in accordance with partition."
   ]
  },
  {
   "cell_type": "code",
   "execution_count": 2,
   "metadata": {},
   "outputs": [],
   "source": [
    "# Your solution is here"
   ]
  },
  {
   "cell_type": "markdown",
   "metadata": {
    "id": "d3B-8pCnLNbm",
    "slideshow": {
     "slide_type": "fragment"
    }
   },
   "source": [
    "## Problem 3 (25 pts)\n",
    "\n",
    "**Disclaimer**: this problem is released first time, so some typos can be found. "
   ]
  },
  {
   "cell_type": "markdown",
   "metadata": {
    "id": "wnaFwh6-LNbm"
   },
   "source": [
    "## Mathematical model (Navier-Stokes equations)\n",
    "\n",
    "The governing equations for two-dimensional incompressible\n",
    "flows can be written in a dimensionless form as:\n",
    "\n",
    "\\begin{equation}\\tag{1}\n",
    "\\dfrac{\\partial \\omega}{\\partial t} = \\dfrac{1}{Re} \\big(\\dfrac{\\partial^2 \\omega}{\\partial x^2} + \\dfrac{\\partial^2 \\omega}{\\partial y^2}\\big) - \\big(\\dfrac{\\partial \\psi}{\\partial y} \\dfrac{\\partial \\omega}{\\partial x} - \\dfrac{\\partial \\psi}{\\partial x} \\dfrac{\\partial \\omega}{\\partial y}\\big),\n",
    "\\end{equation}\n",
    "\n",
    "along with the kinematic relationship between vorticity $\\omega(x,y,t)$ and stream function $\\psi(x,y,t)$ according to the Poisson equation, which is given as:\n",
    "\n",
    "\\begin{equation}\\tag{2}\n",
    "\\dfrac{\\partial^2 \\psi}{\\partial x^2} + \\dfrac{\\partial^2 \\psi}{\\partial y^2} = -\\omega.\n",
    "\\end{equation}\n",
    "\n",
    "We consider equations (1) and (2) in the computational domain $\\Omega = [0, 2\\pi] \\times [0, 2\\pi]$ and impose the following periodic boundary conditions:\n",
    "\n",
    "$$\\omega(x,0,t) =\\omega(x, 2\\pi, t), \\omega(0,y,t) =\\omega(2\\pi, y, t), t \\geq 0,$$\n",
    "and the same for $\\psi(x,y,t)$.\n",
    "\n",
    "Note: the Reynolds number, referred to as $Re$, is a fundamental physical constant that in particular determines whether the fluid flow is laminar or turbulent."
   ]
  },
  {
   "cell_type": "markdown",
   "metadata": {
    "id": "G0UKj3PhLNbm"
   },
   "source": [
    "## The animation below represents a particular solution of the Navier-Stokes equations (1) and (2) and you will get it in the end of this problem\n",
    "<img src=\"vorticity_N1024_Re10000.0_tau0.001.gif\" />"
   ]
  },
  {
   "cell_type": "markdown",
   "metadata": {
    "id": "Ah9fdiBxLNbm"
   },
   "source": [
    "# Fourier-Galerkin pseudospectral method\n",
    "\n",
    "Fourier series expansion based methods are often used for solving problems with periodic boundary conditions. One of the most accurate methods for solving the Navier–Stokes equations in periodic domains is **the pseudospectral method**, which exploits the Fast Fourier Transform (FFT) algorithm. \n",
    "\n",
    "Outline: the main idea of spectral methods is to write the solution of a differential equation as a sum of certain \"basis functions\" (e.g. Fourier series, Chebyshev polynomials etc) and then to choose the coefficients in the sum in order to satisfy the differential equation as well as possible.\n",
    "\n",
    "Comprehensive survey of such methods can be found in [this book](https://depts.washington.edu/ph506/Boyd.pdf).\n",
    "\n",
    "### Discrete Fourier Transform\n",
    "\n",
    "We discretize the domain $[0,L_x]\\times[0, L_y]$ by introducing a computation **grid** consisting of $N_x \\times N_y$ equally spaced points.\n",
    "\n",
    "The discrete grid coordinates for $i = 0, 1, \\ldots, N_x$ and $j = 0, 1, \\ldots, N_y$ are given by:\n",
    "\n",
    "$$x_i = \\frac{i L_x}{N_x}, y_j = \\frac{j L_y}{N_y}.$$\n",
    "\n",
    "Note, that since the domain is periodic $x_0 = x_{N_x}$ and $y_0 = y_{N_y}$.\n",
    "\n",
    " Then, any discrete function $u_{i,j} = u(x_i,y_j)$ can be transformed to the Fourier space using the Discrete Fourier Transform (DFT):\n",
    "\n",
    "$$ \\tilde{u}_{m,n} = \\sum_{i = 0}^{N_x - 1}\\sum_{j = 0}^{N_y - 1} u_{i, j}e^{\n",
    "-\\mathbf{i}(\\frac{2\\pi m}{L_x}x_i + \\frac{2\\pi n}{L_y}y_j)},$$\n",
    "\n",
    "and its inverse transform is:\n",
    "\n",
    "$$ u_{i,j} = \\frac{1}{N_x N_y} \\sum_{m = -\\frac{N_x}{2}}^{\\frac{N_x}{2} - 1}\\sum_{n = -\\frac{N_y}{2}}^{\\frac{N_y}{2} - 1} \\tilde{u}_{m, n}e^{\\mathbf{i}(\\frac{2\\pi m}{L_x}x_i + \\frac{2\\pi n}{L_y}y_j)},$$\n",
    "\n",
    "where $i$ and $j$ represent indices for the physical space (i.e. coordinates in the introduced grid), $m$ and $n$ are indices in the Fourier space (i.e. frequencies). \n",
    "\n",
    "\n",
    "We also introduce wavenumbers:\n",
    "\n",
    "$$k_x = \\frac{2\\pi m}{L_x}, k_y = \\frac{2 \\pi n}{L_y}.$$\n",
    "\n",
    "\n",
    "**Bonus question:** how DFT coefficients $\\tilde{u}_{m,n}$ relate to coefficients in the truncated Fourier series of $u(x,y)$?"
   ]
  },
  {
   "cell_type": "markdown",
   "metadata": {
    "id": "BKdWilYKLNbm"
   },
   "source": [
    "### Differentiation\n",
    "In Fourier space we can easily perform differentiation with respect to $x$ and $y$. For example, the\n",
    "first and the second order derivatives of any function $u$ in discrete\n",
    "domain becomes:\n",
    "\n",
    "$$ \\left(\\dfrac{\\partial u}{\\partial x}\\right)_{i,j} = \\frac{1}{N_x N_y}\\sum_{m = -\\frac{N_x}{2}}^{\\frac{N_x}{2} - 1}\\sum_{n = \\frac{N_y}{2}}^{\\frac{N_y}{2} - 1} \\tilde{u}_{m, n} (\\mathbf{i}k_x) e^{\\mathbf{i}(k_x x_i + k_y y_j)}, $$\n",
    "\n",
    "$$ \\left(\\dfrac{\\partial^2 u}{\\partial x^2}\\right)_{i,j} = \\frac{1}{N_x N_y}\\sum_{m = -\\frac{N_x}{2}}^{\\frac{N_x}{2} - 1}\\sum_{n = -\\frac{N_y}{2}}^{\\frac{N_y}{2} - 1} \\tilde{u}_{m, n} (-k_x^2) e^{\\mathbf{i}(k_x x_i + k_y y_j)}, $$\n",
    "\n",
    "and similarly for the derivatives w.r.t. $y$ "
   ]
  },
  {
   "cell_type": "markdown",
   "metadata": {
    "id": "K_KVpb9-LNbm"
   },
   "source": [
    "Assume $L_x = L_y = L = 2\\pi$, $N_x = N_y = N$ for simplicity. Then, differentiation $\\frac{\\partial}{\\partial x}$ in the Fourier space can be implemented as follows:"
   ]
  },
  {
   "cell_type": "code",
   "execution_count": null,
   "metadata": {
    "id": "hMwgh7KHLNbm"
   },
   "outputs": [],
   "source": [
    "import numpy as np\n",
    "import matplotlib.pyplot as plt"
   ]
  },
  {
   "cell_type": "code",
   "execution_count": null,
   "metadata": {
    "id": "TNWE2W07LNbn"
   },
   "outputs": [],
   "source": [
    "def dudx(u_tilde, N):\n",
    "    k1d = np.fft.fftfreq(N) * N\n",
    "    return u_tilde * (1j * k1d)"
   ]
  },
  {
   "cell_type": "markdown",
   "metadata": {
    "id": "s-i4x0sFLNbn"
   },
   "source": [
    " Note, we use ```np.fft.fftfreq(N)``` to determine the order of frequencies for certain ```numpy``` implementation (see the documentation of ```numpy.fft``` module for details)."
   ]
  },
  {
   "cell_type": "markdown",
   "metadata": {
    "id": "szOCo2qELNbn"
   },
   "source": [
    "Consider the following example:"
   ]
  },
  {
   "cell_type": "code",
   "execution_count": null,
   "metadata": {
    "id": "r8eSqxvlLNbn"
   },
   "outputs": [],
   "source": [
    "L = 2*np.pi # size of computational domain\n",
    "d = 7\n",
    "N = 2**d"
   ]
  },
  {
   "cell_type": "code",
   "execution_count": null,
   "metadata": {
    "colab": {
     "base_uri": "https://localhost:8080/"
    },
    "id": "IYyS1OZOLNbn",
    "outputId": "ef96c9cc-69fa-49e6-df64-69b0913c9f12"
   },
   "outputs": [
    {
     "name": "stdout",
     "output_type": "stream",
     "text": [
      "error =  5.437108258986235e-13\n"
     ]
    }
   ],
   "source": [
    "# discretize the domain $[0, 2\\pi] \\times [0, 2\\pi]$ with uniform grid\n",
    "\n",
    "ls = np.linspace(0, L, N, endpoint=False)\n",
    "xx, yy = np.meshgrid(ls, ls, indexing='xy')\n",
    "\n",
    "# define simple periodic function\n",
    "u = np.sin(xx) * np.sin(yy) \n",
    "\n",
    "# first, compute du/dx analytically\n",
    "u_x = -np.cos(xx) * np.sin(yy) \n",
    "\n",
    "# next, compute du/dx in Fourier space\n",
    "u_tilde = np.fft.ifft2(u)\n",
    "u_tilde_x = dudx(u_tilde, N)\n",
    "u_x_fourier = np.fft.fft2(u_tilde_x)\n",
    "\n",
    "# check the result\n",
    "err = np.linalg.norm(u_x - u_x_fourier)\n",
    "print(\"error = \", err)"
   ]
  },
  {
   "cell_type": "markdown",
   "metadata": {
    "id": "o_fbUD3fLNbo"
   },
   "source": [
    "- (5 pts) Similarly with the implementation of ```dudx(u_tilde, N)``` given above, your first task is to implement other derivatives arising in the Navier-Stokes equtions (1), (2). Loops are prohibited!"
   ]
  },
  {
   "cell_type": "code",
   "execution_count": null,
   "metadata": {
    "id": "8_iqf5UILNbo"
   },
   "outputs": [],
   "source": [
    "def dudy(u_tilde, N):\n",
    "    pass\n",
    "\n",
    "def d2udx2(u_tilde, N):\n",
    "    pass\n",
    " \n",
    "def d2udy2(u_tilde, N):\n",
    "    pass"
   ]
  },
  {
   "cell_type": "markdown",
   "metadata": {
    "id": "SOwtcSntLNbo"
   },
   "source": [
    "### Navier-Stokes equations in the Fourier space\n",
    "\n",
    "After transforming Eq. (1) and Eq. (2) to the Fourier space, the governing equations become:\n",
    "\n",
    "\\begin{equation}\\tag{3}\n",
    "\\frac{\\partial \\tilde{\\omega}_{m,n}}{\\partial t} = \\frac{1}{Re}[(-k_x^2 - k_y^2)\\tilde{\\omega}_{m,n}] - \\tilde{N},\n",
    "\\end{equation}\n",
    "\n",
    "\\begin{equation}\\tag{4}\n",
    "(-k_x^2 - k_y^2)\\tilde{\\psi}_{m,n} = -\\tilde{\\omega}_{m,n},\n",
    "\\end{equation}\n",
    "\n",
    "where $\\tilde{N}$ represents the non-linear term which is computed using 2D convolutions as follows:\n",
    "\n",
    "$$\\tilde{N} = (\\mathbf{i}k_y \\tilde{\\psi}_{m,n}) \\circ (\\mathbf{i}k_x \\tilde{\\omega}_{m,n}) - (\\mathbf{i}k_x \\tilde{\\psi}_{m,n}) \\circ (\\mathbf{i}k_y \\tilde{\\omega}_{m,n}),$$\n",
    "\n",
    "i.e. multiplications in physical space become convolutions in the Fourier space.\n",
    "\n",
    "To clarify where these convolutions come from, consider two discrete functions $u$ and $v$ represented by their DFT (1D for simplicity):\n",
    "\n",
    "$$ u_{i} = \\frac{1}{N_x} \\sum_{m = -\\frac{N_x}{2}}^{\\frac{N_x}{2} - 1} \\tilde{u}_{m}e^{\\mathbf{i}\\frac{2\\pi m}{L_x}x_i},$$\n",
    "\n",
    "$$ v_{i} = \\frac{1}{N_x} \\sum_{n = -\\frac{N_x}{2}}^{\\frac{N_x}{2} - 1}\\tilde{v}_{n}e^{\\mathbf{i}\\frac{2\\pi n}{L_x}x_i}.$$\n",
    "\n",
    "Then, the direct multiplication results in:\n",
    "$$ u_{i} v_{i} = \\frac{1}{N_x} \\sum_{k = -N_x}^{N_x - 2} \\frac{1}{N_x}\\tilde{w}_{k}e^{\\mathbf{i}\\frac{2\\pi k}{L_x}x_i},$$\n",
    "where the coefficients $\\tilde{\\omega}_k$ are computed as follows (check it!):\n",
    "\n",
    "$$\\tilde{w}_{k} = \\sum_{m + n = k}\\tilde{u}_m\\tilde{v}_n.$$\n"
   ]
  },
  {
   "cell_type": "markdown",
   "metadata": {
    "id": "X53g1Axh9z8J"
   },
   "source": [
    "Below we provide a possible implementation of 2D convolution using ```scipy.signal``` module. Note, that *full* convolution introduces higher frequinces that should be truncated in a proper way."
   ]
  },
  {
   "cell_type": "code",
   "execution_count": null,
   "metadata": {
    "id": "U7eNRddgxAEX"
   },
   "outputs": [],
   "source": [
    "from scipy import signal\n",
    "\n",
    "def conv2d_scipy(u_tilde, v_tilde, N):\n",
    "    # np.fft.fftshift is used to align implementation and formulas\n",
    "    full_conv = signal.convolve(np.fft.fftshift(u_tilde),\\\n",
    "                              np.fft.fftshift(v_tilde), mode='full')\n",
    "    trunc_conv = full_conv[N//2:-N//2+1, N//2:-N//2+1]\n",
    "    return np.fft.ifftshift(trunc_conv)/(N*N)\n"
   ]
  },
  {
   "cell_type": "markdown",
   "metadata": {
    "id": "_IAxdiWzLNbo"
   },
   "source": [
    "(10 pts) Your second task is to implement the same 2D convolution but using the *Convolution Theorem* in this time.\n",
    "\n",
    "\n",
    " \n",
    " Hint:  From the lecture course you should know that applying *Convolution Theorem* is straightforward when computing **circular** (or periodic) convolutions. However, for this task you should use an appropriate zero-padding by a factor of two (with further truncation)."
   ]
  },
  {
   "cell_type": "code",
   "execution_count": null,
   "metadata": {
    "id": "7bTYKIdXLNbo"
   },
   "outputs": [],
   "source": [
    "def conv2d(u_tilde, v_tilde, N):\n",
    "    pass"
   ]
  },
  {
   "cell_type": "code",
   "execution_count": null,
   "metadata": {
    "colab": {
     "base_uri": "https://localhost:8080/"
    },
    "id": "8UNflW9B7Nfc",
    "outputId": "1f25d8b1-6ffc-45c6-cacf-34fd56c90cd3"
   },
   "outputs": [
    {
     "name": "stdout",
     "output_type": "stream",
     "text": [
      "error = 3.689150127870228e-15\n"
     ]
    }
   ],
   "source": [
    "# check yourself\n",
    "\n",
    "u_tilde = np.random.rand(N, N)\n",
    "v_tilde = np.random.rand(N, N)\n",
    "\n",
    "err = np.linalg.norm(conv2d(u_tilde, v_tilde, N) - conv2d_scipy(u_tilde, v_tilde, N))\n",
    "print(\"error =\", err) # should be close to machine precision"
   ]
  },
  {
   "cell_type": "markdown",
   "metadata": {
    "id": "StUuTtmZLNbp"
   },
   "source": [
    "**Poisson solver**\n",
    "\n",
    "Finally, we need to solve the Poisson equation Eq. (2) which can be easily computed in the Fourier space according to the Eq. (4).\n"
   ]
  },
  {
   "cell_type": "markdown",
   "metadata": {
    "id": "qbeHRb9_LNbp"
   },
   "source": [
    "(5 pts) Implement inverse of the laplacian operator according to the template provided below. Note: the laplacian operator with periodic boundary conditions is singular (since the constant function is in nullspace). So, in order to avoid division by zero:\n",
    "1. Assume the problem is always consistent (i.e. $\\tilde{\\omega}_{0,0} = 0$), \n",
    "2. Assume $\\tilde{\\psi}_{0,0} = 0$ (i.e. return normal solution). Loops are prohibited!"
   ]
  },
  {
   "cell_type": "code",
   "execution_count": null,
   "metadata": {
    "id": "QuHidp2VLNbp"
   },
   "outputs": [],
   "source": [
    "def laplace_inverse(omega_tilde, N):\n",
    "    psi_tilde = None\n",
    "    return psi_tilde"
   ]
  },
  {
   "cell_type": "code",
   "execution_count": null,
   "metadata": {
    "colab": {
     "base_uri": "https://localhost:8080/"
    },
    "id": "RPdfcex2LNbp",
    "outputId": "7bb7d57a-59ee-4cd3-cf16-3c6ce0d4f4f1"
   },
   "outputs": [
    {
     "name": "stdout",
     "output_type": "stream",
     "text": [
      "error = 1.8561658787461062e-14\n"
     ]
    }
   ],
   "source": [
    "# check yourself\n",
    "\n",
    "# consider simple solution\n",
    "sol_analytic = np.sin(xx)*np.sin(yy)\n",
    "\n",
    "# compute corresponding right hand side analytically\n",
    "rhs = -2*np.sin(xx)*np.sin(yy)\n",
    "\n",
    "# solve Poisson problem in Fourier space\n",
    "rhs_tilde = np.fft.fft2(rhs)\n",
    "sol_tilde = laplace_inverse(rhs_tilde, N)\n",
    "sol = np.fft.ifft2(sol_tilde)\n",
    "\n",
    "# check error is small\n",
    "err = np.linalg.norm(sol - sol_analytic)\n",
    "print(\"error =\", err)"
   ]
  },
  {
   "cell_type": "markdown",
   "metadata": {
    "id": "RTxV3rB1LNbp"
   },
   "source": [
    "**Time integration**\n",
    "\n",
    "Eqs. (3) and (4) can be considered as semi-discrete ordinary differential equations (ODEs) obtained after (spectral) spatial discretization of the partial differential equations (1) and (2):\n",
    "\n",
    "\\begin{equation}\\tag{5}\n",
    "\\frac{d \\tilde{\\omega}}{dt} = \\mathcal{L}(\\tilde{\\omega}, \\tilde{\\psi}),\n",
    "\\end{equation}\n",
    "\n",
    "where $\\mathcal{L}( \\tilde{\\omega} , \\tilde{\\psi})$ is the discrete operator of spatial derivatives including non-linear convective terms, linear diffusive terms, and $\\tilde{\\psi}$ which is obtained from the Poisson equation (4)."
   ]
  },
  {
   "cell_type": "markdown",
   "metadata": {
    "id": "ClUFyKUNLNbp"
   },
   "source": [
    "(5 pts) Implement $\\mathcal{L}$ according to the template provided below"
   ]
  },
  {
   "cell_type": "code",
   "execution_count": null,
   "metadata": {
    "id": "6RJPSno0LNbp"
   },
   "outputs": [],
   "source": [
    "def L_op(omega_tilde, psi_tilde, N, Re=1):\n",
    "    pass"
   ]
  },
  {
   "cell_type": "markdown",
   "metadata": {
    "id": "hEFXzm_sLNbp"
   },
   "source": [
    "We integrate in time using fourth-order Runge–Kutta scheme that can be written in the following form:\n",
    "\n",
    "$$\\tilde{\\omega}^{(1)} = \\tilde{\\omega}^{n} + \\frac{\\Delta t}{2}\\mathcal{L}(\\tilde{\\omega}^{n}, \\tilde{\\psi}^{n})$$\n",
    "\n",
    "$$\\tilde{\\omega}^{(2)} = \\tilde{\\omega}^{n} + \\frac{\\Delta t}{2}\\mathcal{L}(\\tilde{\\omega}^{(1)}, \\tilde{\\psi}^{(1)})$$\n",
    "\n",
    "$$\\tilde{\\omega}^{(3)} = \\tilde{\\omega}^{n} + \\Delta t\\mathcal{L}(\\tilde{\\omega}^{(2)}, \\tilde{\\psi}^{(2)})$$\n",
    "\n",
    "$$\\tilde{\\omega}^{n+1} = \\frac{1}{3}(-\\tilde{\\omega}^{n} + \\tilde{\\omega}^{(1)} + 2\\tilde{\\omega}^{(2)} + \\tilde{\\omega}^{(3)}) + \\frac{\\Delta t}{6}\\mathcal{L}(\\tilde{\\omega}^{3}, \\tilde{\\psi}^{3})$$\n",
    "\n"
   ]
  },
  {
   "cell_type": "code",
   "execution_count": null,
   "metadata": {
    "id": "mprhIsHqDclg"
   },
   "outputs": [],
   "source": [
    "def integrate_runge_kutta(omega0_tilde, N, n_steps, tau, Re):\n",
    "    omega_prev = omega0_tilde\n",
    "    psi_prev = laplace_inverse(-omega_prev, N)\n",
    "    for step in range(n_steps):\n",
    "        if(step%100 == 0):\n",
    "            print(step)\n",
    "        omega_1 = omega_prev + (tau/2)*L_op(omega_prev, psi_prev, N, Re)\n",
    "        psi_1 = -laplace_inverse(omega_1, N)\n",
    "\n",
    "        omega_2 = omega_prev + (tau/2)*L_op(omega_1, psi_1, N, Re)\n",
    "        psi_2 = -laplace_inverse(omega_2, N)\n",
    "\n",
    "        omega_3 = omega_prev + tau*L_op(omega_2, psi_2, N, Re)\n",
    "        psi_3 = -laplace_inverse(omega_3, N)\n",
    "\n",
    "        omega_next = (1./3)*(-omega_prev + omega_1 + 2*omega_2 + omega_3) + (tau/6)*L_op(omega_3, psi_3, N, Re)\n",
    "        psi_next = -laplace_inverse(omega_next, N)\n",
    "\n",
    "        omega_prev = omega_next\n",
    "        psi_prev = psi_next\n",
    "    return omega_prev"
   ]
  },
  {
   "cell_type": "markdown",
   "metadata": {
    "id": "WVKZWf75PXfT"
   },
   "source": [
    "### Validation with analytical solution\n",
    "\n",
    "We first consider the Taylor-Green vortex (known analytical solution of the Navier-Stokes equations) to validate our solver:"
   ]
  },
  {
   "cell_type": "code",
   "execution_count": null,
   "metadata": {
    "id": "9w-D3m0NLNbp"
   },
   "outputs": [],
   "source": [
    "# Taylor-Green vortex -- analytical solution for validation purposes\n",
    "\n",
    "def taylor_green_vortex(xx, yy, t, N, Re):\n",
    "    k = 3\n",
    "    omega = 2*k*np.cos(k*xx)*np.cos(k*yy)*np.exp(-2*k**2*t*(1/Re))\n",
    "    return omega"
   ]
  },
  {
   "cell_type": "code",
   "execution_count": null,
   "metadata": {
    "colab": {
     "base_uri": "https://localhost:8080/"
    },
    "id": "EU1B6MJNFOUP",
    "outputId": "a63df8f8-84d4-454e-9350-6ba809f8dc65"
   },
   "outputs": [
    {
     "name": "stdout",
     "output_type": "stream",
     "text": [
      "0\n"
     ]
    }
   ],
   "source": [
    "\n",
    "Re = 1000\n",
    "tau = 1e-2 # timestep\n",
    "n_steps = 100\n",
    "T = tau * n_steps # finial time\n",
    "\n",
    "omega0 = taylor_green_vortex(xx, yy, 0, N, Re) # initial vorticity\n",
    "omega0_tilde = np.fft.fft2(omega0) # convert to the Fourier space\n",
    "omegaT_tilde = integrate_runge_kutta(omega0_tilde, N, n_steps, tau, Re) # integrate in time in the Fourier space\n",
    "omegaT = np.real(np.fft.ifft2(omegaT_tilde)) # return back to physical space"
   ]
  },
  {
   "cell_type": "code",
   "execution_count": null,
   "metadata": {
    "colab": {
     "base_uri": "https://localhost:8080/"
    },
    "id": "DVuBWU0KJ7ht",
    "outputId": "d18b4a88-3d59-47fb-9b4a-17e185ac93bb"
   },
   "outputs": [
    {
     "name": "stdout",
     "output_type": "stream",
     "text": [
      "error = 2.3043898350926834e-12\n"
     ]
    }
   ],
   "source": [
    "# check the error is small\n",
    "\n",
    "omegaT_analytical = taylor_green_vortex(xx, yy, T, N, Re) \n",
    "err = np.linalg.norm(omegaT_analytical - omegaT)\n",
    "print(\"error =\", err)"
   ]
  },
  {
   "cell_type": "markdown",
   "metadata": {
    "id": "R6L9qInoONrh"
   },
   "source": [
    "### Shear layer problem\n",
    "\n",
    "Finaly, we consider another (more interesting) initial vorticity that gives the dynamic from the GIF in the beginning of this problem."
   ]
  },
  {
   "cell_type": "code",
   "execution_count": null,
   "metadata": {
    "id": "RvPTLSBBFTWy"
   },
   "outputs": [],
   "source": [
    "# intial condition that evolves like a vortex\n",
    "\n",
    "def shear_layer0(xx, yy, N):\n",
    "    delta = 0.05\n",
    "    sigma = 15/np.pi\n",
    "    a = delta*np.cos(yy[:, :N//2]) - sigma*(np.cosh(sigma*(xx[:, :N//2] - np.pi/2)))**(-2)\n",
    "    b = delta*np.cos(yy[:, N//2:]) + sigma*(np.cosh(sigma*(3*np.pi/2 - xx[:, N//2:])))**(-2)\n",
    "    return np.concatenate((a, b), axis=1)"
   ]
  },
  {
   "cell_type": "code",
   "execution_count": null,
   "metadata": {
    "colab": {
     "base_uri": "https://localhost:8080/"
    },
    "id": "5o0pb_glFdiB",
    "outputId": "b84ceca1-50b6-439a-937f-0cc40e8f6d4e"
   },
   "outputs": [
    {
     "name": "stdout",
     "output_type": "stream",
     "text": [
      "0\n",
      "100\n",
      "200\n",
      "300\n",
      "400\n",
      "500\n",
      "600\n",
      "700\n",
      "800\n",
      "900\n",
      "1000\n",
      "1100\n",
      "1200\n",
      "1300\n",
      "1400\n",
      "1500\n",
      "1600\n",
      "1700\n",
      "1800\n",
      "1900\n",
      "2000\n",
      "2100\n",
      "2200\n",
      "2300\n",
      "2400\n",
      "2500\n",
      "2600\n",
      "2700\n",
      "2800\n",
      "2900\n",
      "3000\n",
      "3100\n",
      "3200\n",
      "3300\n",
      "3400\n",
      "3500\n",
      "3600\n",
      "3700\n",
      "3800\n",
      "3900\n",
      "4000\n",
      "4100\n",
      "4200\n",
      "4300\n",
      "4400\n",
      "4500\n",
      "4600\n",
      "4700\n",
      "4800\n",
      "4900\n",
      "5000\n",
      "5100\n",
      "5200\n",
      "5300\n",
      "5400\n",
      "5500\n",
      "5600\n",
      "5700\n",
      "5800\n",
      "5900\n",
      "6000\n",
      "6100\n",
      "6200\n",
      "6300\n",
      "6400\n",
      "6500\n",
      "6600\n",
      "6700\n",
      "6800\n",
      "6900\n",
      "7000\n",
      "7100\n",
      "7200\n",
      "7300\n",
      "7400\n",
      "7500\n",
      "7600\n",
      "7700\n",
      "7800\n",
      "7900\n",
      "8000\n",
      "8100\n",
      "8200\n",
      "8300\n",
      "8400\n",
      "8500\n",
      "8600\n",
      "8700\n",
      "8800\n",
      "8900\n",
      "9000\n",
      "9100\n",
      "9200\n",
      "9300\n",
      "9400\n",
      "9500\n",
      "9600\n",
      "9700\n",
      "9800\n",
      "9900\n"
     ]
    }
   ],
   "source": [
    "Re = 10000\n",
    "tau = 1e-3 # timestep\n",
    "n_steps = 10000\n",
    "T = tau * n_steps # finial time\n",
    "\n",
    "omega0 = shear_layer0(xx, yy, N) # initial vorticity\n",
    "omega0_tilde = np.fft.fft2(omega0) # convert to the Fourier space\n",
    "omegaT_tilde = integrate_runge_kutta(omega0_tilde, N, n_steps, tau, Re) # integrate in time in the Fourier space\n",
    "omegaT = np.real(np.fft.ifft2(omegaT_tilde)) # return back to physical space"
   ]
  },
  {
   "cell_type": "code",
   "execution_count": null,
   "metadata": {
    "colab": {
     "base_uri": "https://localhost:8080/",
     "height": 285
    },
    "id": "oYoqeLYmLNbp",
    "outputId": "f2766c56-1877-491a-a82c-2775e1ed3967"
   },
   "outputs": [
    {
     "data": {
      "text/plain": [
       "<matplotlib.image.AxesImage at 0x7f8c7646cb70>"
      ]
     },
     "execution_count": 67,
     "metadata": {
      "tags": []
     },
     "output_type": "execute_result"
    },
    {
     "data": {
      "image/png": "[encoded data removed]",
      "text/plain": [
       "<Figure size 432x288 with 1 Axes>"
      ]
     },
     "metadata": {
      "needs_background": "light",
      "tags": []
     },
     "output_type": "display_data"
    }
   ],
   "source": [
    "# plot the solution at the final timestamp\n",
    "\n",
    "plt.imshow(np.real(np.fft.ifft2(omega_final)), cmap='jet')"
   ]
  }
 ],
 "metadata": {
  "kernelspec": {
   "display_name": "Python 3",
   "language": "python",
   "name": "python3"
  },
  "language_info": {
   "codemirror_mode": {
    "name": "ipython",
    "version": 3
   },
   "file_extension": ".py",
   "mimetype": "text/x-python",
   "name": "python",
   "nbconvert_exporter": "python",
   "pygments_lexer": "ipython3",
   "version": "3.7.7"
  }
 },
 "nbformat": 4,
 "nbformat_minor": 2
}
